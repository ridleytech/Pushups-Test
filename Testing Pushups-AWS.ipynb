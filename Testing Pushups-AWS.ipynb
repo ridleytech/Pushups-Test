{
 "cells": [
  {
   "cell_type": "markdown",
   "metadata": {},
   "source": [
    "Jupyter notebook tutorial: https://www.youtube.com/watch?v=HW29067qVWk&t=265s\n",
    "Turicreate hand tracking tutorial: https://martinmitrevski.com/2019/01/19/hand-tracking-with-turi-create-and-core-ml/"
   ]
  },
  {
   "cell_type": "code",
   "execution_count": null,
   "metadata": {},
   "outputs": [],
   "source": [
    "# Confirm that you have CUDA 10\n",
    "!nvcc --version"
   ]
  },
  {
   "cell_type": "code",
   "execution_count": null,
   "metadata": {},
   "outputs": [],
   "source": [
    "# Install libraries - you might need to restart the runtime after doing this\n",
    "!pip install turicreate==5.4\n",
    "# The wrong version of mxnet will be installed\n",
    "!pip uninstall -y mxnet\n",
    "# Install CUDA10-compatible version of mxnet\n",
    "!pip install mxnet-cu100\n",
    "# install Skafos python sdk\n",
    "!pip install skafos"
   ]
  },
  {
   "cell_type": "code",
   "execution_count": null,
   "metadata": {},
   "outputs": [],
   "source": [
    "# Import libraries and tell Turicreate to use all GPUs available - this may throw a warning\n",
    "import urllib\n",
    "import tarfile\n",
    "import coremltools\n",
    "import turicreate as tc\n",
    "tc.config.set_num_gpus(-1)\n",
    "import os\n",
    "from os import listdir\n",
    "from os.path import isfile, join\n",
    "import json"
   ]
  },
  {
   "cell_type": "code",
   "execution_count": null,
   "metadata": {},
   "outputs": [],
   "source": [
    "\n",
    "imagesDir = 'pushup-images'\n",
    "\n",
    "#files = [f for f in listdir(path) if isfile(join(path, f))]\n",
    "\n",
    "input_file = open ('annotations-sorted.json')\n",
    "json_array = json.load(input_file)\n",
    "annotations = []\n",
    "\n",
    "for item in json_array:\n",
    "    \n",
    "    image = item['image']\n",
    "    annotationItem = item['annotations']\n",
    "    \n",
    "#     print(annotation)\n",
    "    \n",
    "    label = annotationItem[0]['label']\n",
    "    coordinates = annotationItem[0]['coordinates']\n",
    "    \n",
    "    x = coordinates['x']\n",
    "    y = coordinates['y']\n",
    "    width = coordinates['width']\n",
    "    height = coordinates['height']\n",
    "    \n",
    "#     print(\"label: \" + label + \"width: \" + str(width))\n",
    "    \n",
    "    entries = []\n",
    "    \n",
    "    coordinates = {'height': height, 'width': width, 'x': x, 'y': y}\n",
    "    entry = { 'coordinates' : coordinates, 'label' : label }\n",
    "    annotations.append(entry)\n",
    "    \n",
    "\n"
   ]
  },
  {
   "cell_type": "code",
   "execution_count": null,
   "metadata": {},
   "outputs": [],
   "source": [
    "# print('[%s]' % ', '.join(map(str, annotations)))\n",
    "\n",
    "sf_images = tc.image_analysis.load_images(imagesDir, random_order=False, with_path=True)\n",
    "sf_images[\"annotations\"] = annotations\n",
    "sf_images['image_with_ground_truth'] = \\\n",
    "    tc.object_detector.util.draw_bounding_boxes(sf_images['image'], sf_images['annotations'])\n",
    "sf_images.save('pushupsFrame.sframe')"
   ]
  },
  {
   "cell_type": "code",
   "execution_count": null,
   "metadata": {},
   "outputs": [],
   "source": [
    "#preview sframe\n",
    "\n",
    "sf_images.explore()"
   ]
  },
  {
   "cell_type": "code",
   "execution_count": null,
   "metadata": {},
   "outputs": [],
   "source": [
    "# Load the data\n",
    "data =  tc.SFrame('pushupsFrame.sframe')\n",
    " \n",
    "# Make a train-test split\n",
    "train_data, test_data = data.random_split(0.8)\n",
    " \n",
    "# Create a model\n",
    "model = tc.object_detector.create(train_data, feature='image', max_iterations=120)\n",
    " \n",
    "# Save predictions to an SArray\n",
    "predictions = model.predict(test_data)\n",
    " \n",
    "# Evaluate the model and save the results into a dictionary\n",
    "metrics = model.evaluate(test_data)"
   ]
  },
  {
   "cell_type": "code",
   "execution_count": null,
   "metadata": {},
   "outputs": [],
   "source": [
    "# Export for use in Core ML\n",
    "model.export_coreml('pushupsTC.mlmodel')"
   ]
  }
 ],
 "metadata": {
  "kernelspec": {
   "display_name": "Python 3",
   "language": "python",
   "name": "python3"
  },
  "language_info": {
   "codemirror_mode": {
    "name": "ipython",
    "version": 3
   },
   "file_extension": ".py",
   "mimetype": "text/x-python",
   "name": "python",
   "nbconvert_exporter": "python",
   "pygments_lexer": "ipython3",
   "version": "3.6.8"
  }
 },
 "nbformat": 4,
 "nbformat_minor": 4
}
